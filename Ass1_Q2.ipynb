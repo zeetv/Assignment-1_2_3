# -*- coding: utf-8 -*-
"""
Created on Thu Nov 28 23:14:37 2019

@author: Training
"""

import sys
print("python version")
print(sys.version)
print("version info")
print(sys.version_info)
